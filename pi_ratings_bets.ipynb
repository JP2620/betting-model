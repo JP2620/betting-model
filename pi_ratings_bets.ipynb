{
 "cells": [
  {
   "cell_type": "code",
   "execution_count": null,
   "metadata": {},
   "outputs": [],
   "source": [
    "import numpy as np\n",
    "import matplotlib.pyplot as plt\n",
    "import seaborn as sns\n",
    "import pandas as pd\n",
    "from typing import List, Tuple, Dict, Any, Optional"
   ]
  },
  {
   "cell_type": "code",
   "execution_count": null,
   "metadata": {},
   "outputs": [],
   "source": [
    "df_probabilities = pd.read_csv('./Datasets/pi_rating_probabilities.csv')\n",
    "df_games = pd.read_csv('./Datasets/premier/full_df.csv')"
   ]
  },
  {
   "cell_type": "code",
   "execution_count": null,
   "metadata": {},
   "outputs": [],
   "source": [
    "df_probabilities.head()\n",
    "df_games.describe()"
   ]
  },
  {
   "cell_type": "code",
   "execution_count": null,
   "metadata": {},
   "outputs": [],
   "source": [
    "BOOKIE = 'B365'\n",
    "\n",
    "ODDS_BOOKIE_H = f\"{BOOKIE}H\"\n",
    "ODDS_BOOKIE_D = f\"{BOOKIE}D\"\n",
    "ODDS_BOOKIE_A = f\"{BOOKIE}A\"\n",
    "\n",
    "P_BOOKIE_H = f\"P_{BOOKIE}_H\"\n",
    "P_BOOKIE_D = f\"P_{BOOKIE}_D\"\n",
    "P_BOOKIE_A = f\"P_{BOOKIE}_A\""
   ]
  },
  {
   "cell_type": "code",
   "execution_count": null,
   "metadata": {},
   "outputs": [],
   "source": [
    "def get_probabilities(rating_diff: int) -> Tuple[float, float, float]:\n",
    "\n",
    "  min_rating_diff = df_probabilities[\"BIN_LEFT\"].min()\n",
    "  max_rating_diff = df_probabilities[\"BIN_RIGHT\"].max()\n",
    "\n",
    "  if rating_diff < min_rating_diff:\n",
    "    return (0, 0, 1)\n",
    "  elif rating_diff > max_rating_diff:\n",
    "    return (1, 0, 0)\n",
    "\n",
    "  for _, row in df_probabilities.iterrows():\n",
    "    bin_start, bin_end = row[\"BIN_LEFT\"], row[\"BIN_RIGHT\"]\n",
    "    if bin_start < rating_diff <= bin_end:\n",
    "      return (row[\"H_WINS\"], row[\"DRAWS\"], row[\"A_WINS\"])\n",
    "\n",
    "get_probabilities(0)"
   ]
  },
  {
   "cell_type": "code",
   "execution_count": null,
   "metadata": {},
   "outputs": [],
   "source": [
    "for index, row in df_games.iterrows():\n",
    "  sum = 1 / row[ODDS_BOOKIE_H] + 1 / row[ODDS_BOOKIE_D] + 1 / row[ODDS_BOOKIE_A]\n",
    "  df_games.loc[index, P_BOOKIE_H] = 1 / row[ODDS_BOOKIE_H] / sum\n",
    "  df_games.loc[index, P_BOOKIE_D] = 1 / row[ODDS_BOOKIE_D] / sum\n",
    "  df_games.loc[index, P_BOOKIE_A] = 1 / row[ODDS_BOOKIE_A] / sum\n",
    "\n",
    "df_games.tail(10)"
   ]
  },
  {
   "cell_type": "code",
   "execution_count": null,
   "metadata": {},
   "outputs": [],
   "source": [
    "INITIAL_BANKROLL = 100\n",
    "BANKROLL_HISTORY = [INITIAL_BANKROLL]\n",
    "\n",
    "EV_THRESHOLD = 0\n",
    "\n",
    "df_games[\"BET\"] = \"\"\n",
    "df_games[\"EV\"] = 0\n",
    "df_games[\"PROB\"] = 0\n",
    "\n",
    "for index, row in df_games.tail(3000).iterrows():\n",
    "  rating_diff = row[\"RATING_DIFF\"]\n",
    "  p_H, p_D, p_A = get_probabilities(rating_diff)\n",
    "\n",
    "  kelly_size_H = p_H * (row[ODDS_BOOKIE_H] - 1) - (1 - p_H)\n",
    "  kelly_size_D = p_D * (row[ODDS_BOOKIE_D] - 1) - (1 - p_D)\n",
    "  kelly_size_A = p_A * (row[ODDS_BOOKIE_A] - 1) - (1 - p_A)\n",
    "\n",
    "  ev_H = kelly_size_H * (row[ODDS_BOOKIE_H] - 1) * p_H - kelly_size_H * (1 - p_H)\n",
    "  ev_D = kelly_size_D * (row[ODDS_BOOKIE_D] - 1) * p_D - kelly_size_D * (1 - p_D)\n",
    "  ev_A = kelly_size_A * (row[ODDS_BOOKIE_A] - 1) * p_A - kelly_size_A * (1 - p_A)\n",
    "\n",
    "  if max(ev_H, ev_D, ev_A) > EV_THRESHOLD:\n",
    "    if ev_H > ev_D and ev_H > ev_A:\n",
    "      df_games.loc[index, \"BET\"] = \"H\"\n",
    "      df_games.loc[index, \"EV\"] = ev_H\n",
    "      df_games.loc[index, \"PROB\"] = p_H\n",
    "      bet_size = kelly_size_H\n",
    "    elif ev_D > ev_H and ev_D > ev_A:\n",
    "      df_games.loc[index, \"BET\"] = \"D\"\n",
    "      df_games.loc[index, \"EV\"] = ev_D\n",
    "      df_games.loc[index, \"PROB\"] = p_D\n",
    "      bet_size = kelly_size_D\n",
    "    elif ev_A > ev_H and ev_A > ev_D:\n",
    "      df_games.loc[index, \"BET\"] = \"A\"\n",
    "      df_games.loc[index, \"EV\"] = ev_A\n",
    "      df_games.loc[index, \"PROB\"] = p_A\n",
    "      bet_size = kelly_size_A\n",
    "  else:\n",
    "    continue\n",
    "\n",
    "  if df_games.loc[index, \"BET\"] == df_games.loc[index, \"FTR\"] and df_games.loc[index, \"BET\"] == \"H\":\n",
    "    BANKROLL_HISTORY.append(BANKROLL_HISTORY[-1] + bet_size * (row[ODDS_BOOKIE_H] - 1))\n",
    "  elif df_games.loc[index, \"BET\"] == df_games.loc[index, \"FTR\"] and df_games.loc[index, \"BET\"] == \"D\":\n",
    "    BANKROLL_HISTORY.append(BANKROLL_HISTORY[-1] + bet_size * (row[ODDS_BOOKIE_D] - 1))\n",
    "  elif df_games.loc[index, \"BET\"] == df_games.loc[index, \"FTR\"] and df_games.loc[index, \"BET\"] == \"A\":\n",
    "    BANKROLL_HISTORY.append(BANKROLL_HISTORY[-1] + bet_size * (row[ODDS_BOOKIE_A] - 1))\n",
    "  else:\n",
    "    BANKROLL_HISTORY.append(BANKROLL_HISTORY[-1] - bet_size)"
   ]
  },
  {
   "cell_type": "code",
   "execution_count": null,
   "metadata": {},
   "outputs": [],
   "source": [
    "# plot bankroll history\n",
    "plt.rcParams[\"figure.figsize\"] = (12, 8)\n",
    "plt.grid(True)\n",
    "plt.title(\"Bankroll History\")\n",
    "plt.xlabel(\"Games\")\n",
    "plt.ylabel(\"Bankroll\")\n",
    "plt.plot(BANKROLL_HISTORY)"
   ]
  },
  {
   "cell_type": "code",
   "execution_count": null,
   "metadata": {},
   "outputs": [],
   "source": [
    "# Histogram of probabilities of bets won\n",
    "plt.rcParams[\"figure.figsize\"] = (12, 8)\n",
    "plt.grid(True)\n",
    "plt.title(\"Histogram of probabilities of bets won\")\n",
    "plt.xlabel(\"Probabilities\")\n",
    "plt.ylabel(\"Count\")\n",
    "plt.hist(df_games[df_games[\"BET\"] == df_games[\"FTR\"]][\"PROB\"])\n",
    "\n"
   ]
  },
  {
   "cell_type": "code",
   "execution_count": null,
   "metadata": {},
   "outputs": [],
   "source": [
    "# head of records with bets won\n",
    "COLUMNS = [\"HomeTeam\", \"AwayTeam\", \"BET\", \"FTR\", \"EV\", \"PROB\", ODDS_BOOKIE_H, ODDS_BOOKIE_D, ODDS_BOOKIE_A]\n",
    "df_games[df_games[\"BET\"] == df_games[\"FTR\"]][COLUMNS].tail(20)"
   ]
  },
  {
   "cell_type": "code",
   "execution_count": null,
   "metadata": {},
   "outputs": [],
   "source": [
    "# Bar chart of bets made\n",
    "\n",
    "plt.rcParams[\"figure.figsize\"] = (12, 8)\n",
    "plt.grid(True)\n",
    "plt.title(\"Bar chart of bets made\")\n",
    "plt.xlabel(\"Bets\")\n",
    "plt.ylabel(\"Count\")\n",
    "plt.bar([\"H\", \"D\", \"A\", \"\"], df_games[\"BET\"].value_counts())"
   ]
  },
  {
   "cell_type": "code",
   "execution_count": null,
   "metadata": {},
   "outputs": [],
   "source": [
    "# Histogram of EVs in bets lost (ignore bets where BET = \"\")\n",
    "plt.rcParams[\"figure.figsize\"] = (12, 8)\n",
    "plt.grid(True)\n",
    "plt.title(\"Histogram of EVs in bets lost (ignore bets where BET = '')\")\n",
    "plt.xlabel(\"EV\")\n",
    "plt.ylabel(\"Count\")\n",
    "plt.hist(df_games[df_games[\"BET\"] != \"\" & df_games[\"BET\"] != df_games[\"FTR\"]][\"EV\"])"
   ]
  }
 ],
 "metadata": {
  "kernelspec": {
   "display_name": ".venv",
   "language": "python",
   "name": "python3"
  },
  "language_info": {
   "codemirror_mode": {
    "name": "ipython",
    "version": 3
   },
   "file_extension": ".py",
   "mimetype": "text/x-python",
   "name": "python",
   "nbconvert_exporter": "python",
   "pygments_lexer": "ipython3",
   "version": "3.10.11"
  }
 },
 "nbformat": 4,
 "nbformat_minor": 2
}
